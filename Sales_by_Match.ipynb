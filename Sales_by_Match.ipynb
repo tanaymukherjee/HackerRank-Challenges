{
  "nbformat": 4,
  "nbformat_minor": 0,
  "metadata": {
    "colab": {
      "name": "Sales by Match.ipynb",
      "provenance": [],
      "collapsed_sections": [],
      "authorship_tag": "ABX9TyM5C120Nc35HI5Yt2HNEY0l",
      "include_colab_link": true
    },
    "kernelspec": {
      "name": "python3",
      "display_name": "Python 3"
    },
    "language_info": {
      "name": "python"
    }
  },
  "cells": [
    {
      "cell_type": "markdown",
      "metadata": {
        "id": "view-in-github",
        "colab_type": "text"
      },
      "source": [
        "<a href=\"https://colab.research.google.com/github/tanaymukherjee/HackerRank-Challenges/blob/main/Sales_by_Match.ipynb\" target=\"_parent\"><img src=\"https://colab.research.google.com/assets/colab-badge.svg\" alt=\"Open In Colab\"/></a>"
      ]
    },
    {
      "cell_type": "markdown",
      "metadata": {
        "id": "hlH3XjGlMhrA"
      },
      "source": [
        "# Sales by Match"
      ]
    },
    {
      "cell_type": "markdown",
      "metadata": {
        "id": "bgb7mOylMqcV"
      },
      "source": [
        "## Problem"
      ]
    },
    {
      "cell_type": "markdown",
      "metadata": {
        "id": "IiV2DNZZMjA-"
      },
      "source": [
        "```\n",
        "There is a large pile of socks that must be paired by color. Given an array of integers representing the color of each sock, determine how many pairs of socks with matching colors there are.\n",
        "\n",
        "Example\n",
        "\n",
        "\n",
        "There is one pair of color  and one of color . There are three odd socks left, one of each color. The number of pairs is .\n",
        "\n",
        "Function Description\n",
        "\n",
        "Complete the sockMerchant function in the editor below.\n",
        "\n",
        "sockMerchant has the following parameter(s):\n",
        "\n",
        "int n: the number of socks in the pile\n",
        "int ar[n]: the colors of each sock\n",
        "Returns\n",
        "\n",
        "int: the number of pairs\n",
        "Input Format\n",
        "\n",
        "The first line contains an integer , the number of socks represented in .\n",
        "The second line contains  space-separated integers, , the colors of the socks in the pile.\n",
        "\n",
        "Constraints\n",
        "\n",
        " where \n",
        "Sample Input\n",
        "\n",
        "STDIN                       Function\n",
        "-----                       --------\n",
        "9                           n = 9\n",
        "10 20 20 10 10 30 50 10 20  ar = [10, 20, 20, 10, 10, 30, 50, 10, 20]\n",
        "Sample Output\n",
        "\n",
        "3\n",
        "```"
      ]
    },
    {
      "cell_type": "code",
      "metadata": {
        "id": "2bauY7FkNBFe"
      },
      "source": [
        "#!/bin/python\n",
        "\n",
        "import math\n",
        "import os\n",
        "import random\n",
        "import re\n",
        "import sys\n",
        "\n",
        "# Complete the sockMerchant function below.\n",
        "def sockMerchant(n, ar):\n",
        "    return sum([ar.count(i)//2 for i in set(ar)])\n",
        "\n",
        "if __name__ == '__main__':\n",
        "    fptr = open(os.environ['OUTPUT_PATH'], 'w')\n",
        "\n",
        "    n = int(raw_input())\n",
        "\n",
        "    ar = map(int, raw_input().rstrip().split())\n",
        "\n",
        "    result = sockMerchant(n, ar)\n",
        "\n",
        "    fptr.write(str(result) + '\\n')\n",
        "\n",
        "    fptr.close()\n",
        "\n",
        "## Code might not run here because it was written based on the compiler provided by the HackerRank team"
      ],
      "execution_count": null,
      "outputs": []
    }
  ]
}